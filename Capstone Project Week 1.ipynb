{
    "nbformat_minor": 1, 
    "cells": [
        {
            "source": "# Introduction", 
            "cell_type": "markdown", 
            "metadata": {
                "collapsed": true
            }
        }, 
        {
            "source": "John is a client who moved to the St. Louis, Missouri area almost four years ago from Minneapolis, Minnesota to attend Logan College of Chiropractic. He is graduating in December and has decided to look into staying in the St. Louis area after graduation and opening a Chiropractic office. St. Louis is a city that was esablished in 1764 on the banks of the Mississippi river in the midwest U.S.. The city and surrounding area has a population of approximately 2.85 million people. It is a city with many ammenities such as an international airport, a zoo, museums, professional sports teams, many restaurants/bars, botanical gardens, and decent public transportation. John would like to know if there are certain neighborhoods that are underserved or have a small number of Chirorpractic offices to avoid competition where he can open a practice and have a good chance to succeed. He is looking for some data driven evidence to help him decide on a location for his new practice.", 
            "cell_type": "markdown", 
            "metadata": {}
        }, 
        {
            "source": "# Data Description", 
            "cell_type": "markdown", 
            "metadata": {}
        }, 
        {
            "source": "Data will be generated using the Foursquare API to map Chiropractic offices in the St. Louis metro area with a radius of 40,000 meters (~24.8 miles), including the location of Logan College as a reference. We will use Folium to visualize the Foursquare data to guide our recommendations to John. We will search for sources of statistics on the internet to find any information on the number of Chiropractors in comparison to the population of St. Louis which will help us determine if the area is saturated with Chiropractors - which is possible considering the fact that there is a college in the metro area. We will also search for some statistics available to compare the number of Chiropractors compared to the population of Minneapolis, John's hometown, which will help him decide if he should stay in St. Louis or move back to Minneapolis and open a practice after graduation.", 
            "cell_type": "markdown", 
            "metadata": {}
        }
    ], 
    "metadata": {
        "kernelspec": {
            "display_name": "Python 3.6", 
            "name": "python3", 
            "language": "python"
        }, 
        "language_info": {
            "mimetype": "text/x-python", 
            "nbconvert_exporter": "python", 
            "version": "3.6.8", 
            "name": "python", 
            "file_extension": ".py", 
            "pygments_lexer": "ipython3", 
            "codemirror_mode": {
                "version": 3, 
                "name": "ipython"
            }
        }
    }, 
    "nbformat": 4
}