{
    "nbformat_minor": 1, 
    "cells": [
        {
            "source": "# Introduction", 
            "cell_type": "markdown", 
            "metadata": {
                "collapsed": true
            }
        }, 
        {
            "source": "John is a client who moved to the St. Louis, Missouri area almost four years ago from Minneapolis, Minnesota to attend Logan College of Chiropractic. He is graduating in December and has decided to look into staying in the St. Louis area after graduation and opening a Chiropractic office. St. Louis is a city that was esablished in 1764 on the banks of the Mississippi river in the midwest U.S.. The city and surrounding area has a population of approximately 2.85 million people. It is a city with many ammenities such as an international airport, a zoo, museums, professional sports teams, many restaurants/bars, botanical gardens, and decent public transportation. John would like to know if there are certain neighborhoods that are underserved or have a small number of Chirorpractic offices to avoid competition where he can open a practice and have a good chance to succeed. He is looking for some data driven evidence to help him decide on a location for his new practice. This data set is appicable to all graduating students from Logan College who are considering establishing a career in St. Louis or any other city in the U.S., or outside the U.S.", 
            "cell_type": "markdown", 
            "metadata": {}
        }, 
        {
            "source": "# Data Description", 
            "cell_type": "markdown", 
            "metadata": {}
        }, 
        {
            "source": "Data will be generated using the Foursquare API to map Chiropractic offices in the St. Louis metro area with a radius of 40,000 meters (~24.8 miles), including the location of Logan College as a reference. We will use Folium to visualize the Foursquare data to guide our recommendations to John. We will search for sources of statistics on the internet to find any information on the number of Chiropractors in comparison to the population of St. Louis which will help us determine if the area is saturated with Chiropractors - which is possible considering the fact that there is a college in the metro area. We will also search for some statistics available to compare the number of Chiropractors compared to the population of Minneapolis, John's hometown, which will help him decide if he should stay in St. Louis or move back to Minneapolis and open a practice after graduation.", 
            "cell_type": "markdown", 
            "metadata": {}
        }, 
        {
            "execution_count": 1, 
            "cell_type": "code", 
            "metadata": {}, 
            "outputs": [
                {
                    "output_type": "stream", 
                    "name": "stdout", 
                    "text": "Solving environment: done\n\n## Package Plan ##\n\n  environment location: /opt/conda/envs/Python36\n\n  added / updated specs: \n    - geopy\n\n\nThe following packages will be downloaded:\n\n    package                    |            build\n    ---------------------------|-----------------\n    geographiclib-1.50         |             py_0          34 KB  conda-forge\n    geopy-1.20.0               |             py_0          57 KB  conda-forge\n    openssl-1.1.1c             |       h516909a_0         2.1 MB  conda-forge\n    ca-certificates-2019.9.11  |       hecc5488_0         144 KB  conda-forge\n    certifi-2019.9.11          |           py36_0         147 KB  conda-forge\n    ------------------------------------------------------------\n                                           Total:         2.5 MB\n\nThe following NEW packages will be INSTALLED:\n\n    geographiclib:   1.50-py_0         conda-forge\n    geopy:           1.20.0-py_0       conda-forge\n\nThe following packages will be UPDATED:\n\n    ca-certificates: 2019.8.28-0                   --> 2019.9.11-hecc5488_0 conda-forge\n    certifi:         2019.9.11-py36_0              --> 2019.9.11-py36_0     conda-forge\n\nThe following packages will be DOWNGRADED:\n\n    openssl:         1.1.1d-h7b6447c_2             --> 1.1.1c-h516909a_0    conda-forge\n\n\nDownloading and Extracting Packages\ngeographiclib-1.50   | 34 KB     | ##################################### | 100% \ngeopy-1.20.0         | 57 KB     | ##################################### | 100% \nopenssl-1.1.1c       | 2.1 MB    | ##################################### | 100% \nca-certificates-2019 | 144 KB    | ##################################### | 100% \ncertifi-2019.9.11    | 147 KB    | ##################################### | 100% \nPreparing transaction: done\nVerifying transaction: done\nExecuting transaction: done\nSolving environment: done\n\n## Package Plan ##\n\n  environment location: /opt/conda/envs/Python36\n\n  added / updated specs: \n    - folium=0.5.0\n\n\nThe following packages will be downloaded:\n\n    package                    |            build\n    ---------------------------|-----------------\n    folium-0.5.0               |             py_0          45 KB  conda-forge\n    vincent-0.4.4              |             py_1          28 KB  conda-forge\n    altair-3.2.0               |           py36_0         770 KB  conda-forge\n    branca-0.3.1               |             py_0          25 KB  conda-forge\n    ------------------------------------------------------------\n                                           Total:         868 KB\n\nThe following NEW packages will be INSTALLED:\n\n    altair:  3.2.0-py36_0 conda-forge\n    branca:  0.3.1-py_0   conda-forge\n    folium:  0.5.0-py_0   conda-forge\n    vincent: 0.4.4-py_1   conda-forge\n\n\nDownloading and Extracting Packages\nfolium-0.5.0         | 45 KB     | ##################################### | 100% \nvincent-0.4.4        | 28 KB     | ##################################### | 100% \naltair-3.2.0         | 770 KB    | ##################################### | 100% \nbranca-0.3.1         | 25 KB     | ##################################### | 100% \nPreparing transaction: done\nVerifying transaction: done\nExecuting transaction: done\nFolium installed\nLibraries imported.\n"
                }
            ], 
            "source": "import requests # library to handle requests\nimport pandas as pd # library for data analsysis\nimport numpy as np # library to handle data in a vectorized manner\n!conda install -c conda-forge geopy --yes \nfrom geopy.geocoders import Nominatim # module to convert an address into latitude and longitude values\n\n# libraries for displaying images\nfrom IPython.display import Image \nfrom IPython.core.display import HTML \n    \n# tranforming json file into a pandas dataframe library\nfrom pandas.io.json import json_normalize\n\n!conda install -c conda-forge folium=0.5.0 --yes\nimport folium # plotting library\n\nprint('Folium installed')\nprint('Libraries imported.')"
        }, 
        {
            "execution_count": 2, 
            "cell_type": "code", 
            "metadata": {}, 
            "outputs": [
                {
                    "output_type": "stream", 
                    "name": "stdout", 
                    "text": "Your credentails:\nCLIENT_ID: F5HUSRWUDQMSKYPPLP3RI5FRTWWF5N0CICTY5P54PGAJJANB\nCLIENT_SECRET:AFD1KYH2P2K0Q3MGK1RBIHK5XMJOWYHOC5DLSVL0UCFWIEXA\n"
                }
            ], 
            "source": "CLIENT_ID = 'F5HUSRWUDQMSKYPPLP3RI5FRTWWF5N0CICTY5P54PGAJJANB' #  Foursquare ID\nCLIENT_SECRET = 'AFD1KYH2P2K0Q3MGK1RBIHK5XMJOWYHOC5DLSVL0UCFWIEXA' # Foursquare Secret\nVERSION = '20180604'\nLIMIT = 30\nprint('Your credentails:')\nprint('CLIENT_ID: ' + CLIENT_ID)\nprint('CLIENT_SECRET:' + CLIENT_SECRET)"
        }, 
        {
            "execution_count": 3, 
            "cell_type": "code", 
            "metadata": {}, 
            "outputs": [
                {
                    "output_type": "stream", 
                    "name": "stdout", 
                    "text": "38.6329110535149 -90.5350624628619\n"
                }
            ], 
            "source": "address = '1851 Schoettler Road, Chesterfield, MO'  # address of Logan College of Chiropractic\n\ngeolocator = Nominatim(user_agent=\"foursquare_agent\")\nlocation = geolocator.geocode(address)\nlatitude = location.latitude\nlongitude = location.longitude\nprint(latitude, longitude)"
        }
    ], 
    "metadata": {
        "kernelspec": {
            "display_name": "Python 3.6", 
            "name": "python3", 
            "language": "python"
        }, 
        "language_info": {
            "mimetype": "text/x-python", 
            "nbconvert_exporter": "python", 
            "version": "3.6.8", 
            "name": "python", 
            "file_extension": ".py", 
            "pygments_lexer": "ipython3", 
            "codemirror_mode": {
                "version": 3, 
                "name": "ipython"
            }
        }
    }, 
    "nbformat": 4
}